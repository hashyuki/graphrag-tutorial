{
 "cells": [
  {
   "cell_type": "markdown",
   "metadata": {},
   "source": [
    "# Local search\n",
    "\n",
    "局所検索法は、知識グラフの構造化データと入力文書の非構造化データを組み合わせ、クエリ時に関連するエンティティ情報でLLMコンテキストを補強する。これは、入力文書で言及されている特定のエンティティの理解を必要とする質問に答えるのに適している（例えば、「カモミールの治癒特性は何か？）"
   ]
  },
  {
   "cell_type": "code",
   "execution_count": 1,
   "metadata": {},
   "outputs": [],
   "source": [
    "%load_ext dotenv\n",
    "\n",
    "import os\n",
    "\n",
    "import pandas as pd\n",
    "import tiktoken\n",
    "\n",
    "from graphrag.query.context_builder.entity_extraction import EntityVectorStoreKey\n",
    "from graphrag.query.indexer_adapters import (\n",
    "    read_indexer_covariates,\n",
    "    read_indexer_entities,\n",
    "    read_indexer_relationships,\n",
    "    read_indexer_reports,\n",
    "    read_indexer_text_units,\n",
    ")\n",
    "from graphrag.query.input.loaders.dfs import (\n",
    "    store_entity_semantic_embeddings,\n",
    ")\n",
    "from graphrag.query.llm.oai.chat_openai import ChatOpenAI\n",
    "from graphrag.query.llm.oai.embedding import OpenAIEmbedding\n",
    "from graphrag.query.llm.oai.typing import OpenaiApiType\n",
    "from graphrag.query.question_gen.local_gen import LocalQuestionGen\n",
    "from graphrag.query.structured_search.local_search.mixed_context import (\n",
    "    LocalSearchMixedContext,\n",
    ")\n",
    "from graphrag.query.structured_search.local_search.search import LocalSearch\n",
    "from graphrag.vector_stores.lancedb import LanceDBVectorStore"
   ]
  },
  {
   "cell_type": "markdown",
   "metadata": {},
   "source": [
    "ベースとなるLLMとEmbeddingの指定"
   ]
  },
  {
   "cell_type": "code",
   "execution_count": 2,
   "metadata": {},
   "outputs": [],
   "source": [
    "api_key = os.environ[\"OPENAI_API_KEY\"]\n",
    "llm_model = 'gpt-4o'\n",
    "embedding_model = 'text-embedding-3-small'\n",
    "\n",
    "llm = ChatOpenAI(\n",
    "    api_key=api_key,\n",
    "    model=llm_model,\n",
    "    api_type=OpenaiApiType.OpenAI,  # OpenaiApiType.OpenAI or OpenaiApiType.AzureOpenAI\n",
    "    max_retries=20,\n",
    ")\n",
    "\n",
    "token_encoder = tiktoken.get_encoding(\"cl100k_base\")\n",
    "\n",
    "text_embedder = OpenAIEmbedding(\n",
    "    api_key=api_key,\n",
    "    api_base=None,\n",
    "    api_type=OpenaiApiType.OpenAI,\n",
    "    model=embedding_model,\n",
    "    deployment_name=embedding_model,\n",
    "    max_retries=20,\n",
    ")"
   ]
  },
  {
   "cell_type": "markdown",
   "metadata": {},
   "source": [
    "`python -m graphrag.index --root ./ragtest`で生成された`.parquet`ファイルとlanceDBへのpathを指定"
   ]
  },
  {
   "cell_type": "code",
   "execution_count": 3,
   "metadata": {},
   "outputs": [],
   "source": [
    "input_dir = \"data/graphrag/gs_q6OLkTkx9NIQ0Wobtqn62tOy/output/default/artifacts\"\n",
    "lancedb_uri = f\"{input_dir}/lancedb\"\n",
    "\n",
    "community_report_table = \"create_final_community_reports\"\n",
    "entity_table = \"create_final_nodes\"\n",
    "entity_embedding_table = \"create_final_entities\"\n",
    "relationship_table = \"create_final_relationships\"\n",
    "covariate_table = \"create_final_covariates\"\n",
    "text_unit_table = \"create_final_text_units\""
   ]
  },
  {
   "cell_type": "markdown",
   "metadata": {},
   "source": [
    "`pd.DataFrame`として読み出し"
   ]
  },
  {
   "cell_type": "code",
   "execution_count": 4,
   "metadata": {},
   "outputs": [],
   "source": [
    "report_df = pd.read_parquet(f\"{input_dir}/{community_report_table}.parquet\")\n",
    "entity_df = pd.read_parquet(f\"{input_dir}/{entity_table}.parquet\")\n",
    "entity_embedding_df = pd.read_parquet(f\"{input_dir}/{entity_embedding_table}.parquet\")\n",
    "relationship_df = pd.read_parquet(f\"{input_dir}/{relationship_table}.parquet\")\n",
    "covariate_df = pd.read_parquet(f\"{input_dir}/{covariate_table}.parquet\")\n",
    "text_unit_df = pd.read_parquet(f\"{input_dir}/{text_unit_table}.parquet\")"
   ]
  },
  {
   "cell_type": "code",
   "execution_count": null,
   "metadata": {},
   "outputs": [],
   "source": []
  },
  {
   "cell_type": "markdown",
   "metadata": {},
   "source": [
    "DataFrameからGraphRAGとして使える形に変換"
   ]
  },
  {
   "cell_type": "code",
   "execution_count": 5,
   "metadata": {},
   "outputs": [
    {
     "name": "stderr",
     "output_type": "stream",
     "text": [
      "[2024-08-12T06:14:15Z WARN  lance::dataset] No existing dataset at /Users/hashyuki/code/learn_graphrag/data/output/test/artifacts/lancedb/entity_description_embeddings.lance, it will be created\n"
     ]
    }
   ],
   "source": [
    "reports = read_indexer_reports(report_df, entity_df, 2)\n",
    "entities = read_indexer_entities(entity_df, entity_embedding_df, 2)\n",
    "relationships = read_indexer_relationships(relationship_df)\n",
    "claims = read_indexer_covariates(covariate_df)\n",
    "covariates = {\"claims\": claims}\n",
    "text_units = read_indexer_text_units(text_unit_df)\n",
    "\n",
    "# load description embeddings to an in-memory lancedb vectorstore\n",
    "# to connect to a remote db, specify url and port values.\n",
    "description_embedding_store = LanceDBVectorStore(\n",
    "    collection_name=\"entity_description_embeddings\",\n",
    ")\n",
    "description_embedding_store.connect(db_uri=lancedb_uri)\n",
    "entity_description_embeddings = store_entity_semantic_embeddings(\n",
    "    entities=entities, vectorstore=description_embedding_store\n",
    ")"
   ]
  },
  {
   "cell_type": "markdown",
   "metadata": {},
   "source": [
    "ローカルな文脈を構築"
   ]
  },
  {
   "cell_type": "code",
   "execution_count": 6,
   "metadata": {},
   "outputs": [],
   "source": [
    "context_builder = LocalSearchMixedContext(\n",
    "    community_reports=reports,\n",
    "    text_units=text_units,\n",
    "    entities=entities,\n",
    "    relationships=relationships,\n",
    "    covariates=covariates,\n",
    "    entity_text_embeddings=description_embedding_store,\n",
    "    embedding_vectorstore_key=EntityVectorStoreKey.ID,  # if the vectorstore uses entity title as ids, set this to EntityVectorStoreKey.TITLE\n",
    "    text_embedder=text_embedder,\n",
    "    token_encoder=token_encoder,\n",
    ")"
   ]
  },
  {
   "cell_type": "markdown",
   "metadata": {},
   "source": [
    "ローカルサーチのためのエンジンをインスタンス化"
   ]
  },
  {
   "cell_type": "code",
   "execution_count": 7,
   "metadata": {},
   "outputs": [],
   "source": [
    "local_context_params = {\n",
    "    \"text_unit_prop\": 0.5,\n",
    "    \"community_prop\": 0.1,\n",
    "    \"conversation_history_max_turns\": 5,\n",
    "    \"conversation_history_user_turns_only\": True,\n",
    "    \"top_k_mapped_entities\": 10,\n",
    "    \"top_k_relationships\": 10,\n",
    "    \"include_entity_rank\": True,\n",
    "    \"include_relationship_weight\": True,\n",
    "    \"include_community_rank\": False,\n",
    "    \"return_candidate_context\": False,\n",
    "    \"embedding_vectorstore_key\": EntityVectorStoreKey.ID,  # set this to EntityVectorStoreKey.TITLE if the vectorstore uses entity title as ids\n",
    "    \"max_tokens\": 12_000,  # change this based on the token limit you have on your model (if you are using a model with 8k limit, a good setting could be 5000)\n",
    "}\n",
    "\n",
    "llm_params = {\n",
    "    \"max_tokens\": 2_000,  # change this based on the token limit you have on your model (if you are using a model with 8k limit, a good setting could be 1000=1500)\n",
    "    \"temperature\": 0.0,\n",
    "}"
   ]
  },
  {
   "cell_type": "code",
   "execution_count": 8,
   "metadata": {},
   "outputs": [],
   "source": [
    "search_engine = LocalSearch(\n",
    "    llm=llm,\n",
    "    context_builder=context_builder,\n",
    "    token_encoder=token_encoder,\n",
    "    llm_params=llm_params,\n",
    "    context_builder_params=local_context_params,\n",
    "    response_type=\"multiple paragraphs\",  # free form text describing the response type and format, can be anything, e.g. prioritized list, single paragraph, multiple paragraphs, multiple-page report\n",
    ")"
   ]
  },
  {
   "cell_type": "markdown",
   "metadata": {},
   "source": [
    "ローカルサーチ"
   ]
  },
  {
   "cell_type": "code",
   "execution_count": 9,
   "metadata": {},
   "outputs": [
    {
     "name": "stdout",
     "output_type": "stream",
     "text": [
      "# 主人公の交友関係\n",
      "\n",
      "## 清峰葉流火と要圭の関係\n",
      "\n",
      "清峰葉流火と要圭は中学時代に天才バッテリーとして恐れられていたコンビです。彼らの強力なパートナーシップは、野球界で多くの注目を集めました。しかし、要圭が記憶喪失になり、野球の素人となったことで、彼らの関係は新たな局面を迎えます。要圭が小手指高校に入学し、清峰もそれに続いて入学することで、再び彼らの友情とパートナーシップが試されることになります [Data: Entities (112, 113); Relationships (11, 14)]。\n",
      "\n",
      "## 藤堂葵と千早瞬平の関係\n",
      "\n",
      "藤堂葵と千早瞬平もまた、清峰葉流火と要圭に影響を受けたキャラクターです。彼らは中学時代に清峰と要に敗北し、野球を辞める決意をしました。しかし、運命のいたずらか、小手指高校で再び出会い、共に野球部に入部することになります。藤堂と千早の友情は、彼らが再び野球に挑戦するための大きな支えとなります [Data: Entities (114, 115); Relationships (17, 18, 19)]。\n",
      "\n",
      "## 山田太郎の関係\n",
      "\n",
      "山田太郎は、清峰葉流火と要圭に対する強い影響を受けたもう一人のキャラクターです。彼は中学時代に彼らと対戦し、その結果として野球を辞める決意をしました。しかし、小手指高校に進学した後、再び清峰と要に出会い、彼の人生は大きく変わります。山田の物語は、過去の挫折を乗り越え、新たな挑戦に立ち向かう姿を描いています [Data: Entities (113, 116); Relationships (12, 16)]。\n",
      "\n",
      "## 野球部の仲間たち\n",
      "\n",
      "小手指高校の野球部は、これらのキャラクターたちが再び集まり、共に新たな挑戦に立ち向かう場です。清峰葉流火、要圭、藤堂葵、千早瞬平、そして山田太郎が一緒に野球部に入部し、彼らの友情とチームワークが試されます。野球部は、彼らが過去の挫折を乗り越え、再び野球に情熱を注ぐための重要な舞台となります [Data: Entities (117); Relationships (14, 15, 18, 19)]。\n",
      "\n",
      "## 結論\n",
      "\n",
      "主人公たちの交友関係は、彼らの過去の経験と現在の挑戦が交錯する複雑なものです。清峰葉流火と要圭の強力なパートナーシップ、藤堂葵と千早瞬平の友情、そして山田太郎の再起は、物語の中で重要な役割を果たしています。小手指高校の野球部は、彼らが再び集まり、新たな目標に向かって進むための場となっています。\n"
     ]
    }
   ],
   "source": [
    "result = await search_engine.asearch(\n",
    "    \"主人公の交友関係を説明して\"\n",
    ")\n",
    "\n",
    "print(result.response)"
   ]
  },
  {
   "cell_type": "code",
   "execution_count": 10,
   "metadata": {},
   "outputs": [
    {
     "data": {
      "text/html": [
       "<div>\n",
       "<style scoped>\n",
       "    .dataframe tbody tr th:only-of-type {\n",
       "        vertical-align: middle;\n",
       "    }\n",
       "\n",
       "    .dataframe tbody tr th {\n",
       "        vertical-align: top;\n",
       "    }\n",
       "\n",
       "    .dataframe thead th {\n",
       "        text-align: right;\n",
       "    }\n",
       "</style>\n",
       "<table border=\"1\" class=\"dataframe\">\n",
       "  <thead>\n",
       "    <tr style=\"text-align: right;\">\n",
       "      <th></th>\n",
       "      <th>id</th>\n",
       "      <th>title</th>\n",
       "      <th>content</th>\n",
       "    </tr>\n",
       "  </thead>\n",
       "  <tbody>\n",
       "    <tr>\n",
       "      <th>0</th>\n",
       "      <td>3</td>\n",
       "      <td>Mura and the Dragon's Legacy</td>\n",
       "      <td># Mura and the Dragon's Legacy\\n\\nThe communit...</td>\n",
       "    </tr>\n",
       "  </tbody>\n",
       "</table>\n",
       "</div>"
      ],
      "text/plain": [
       "  id                         title  \\\n",
       "0  3  Mura and the Dragon's Legacy   \n",
       "\n",
       "                                             content  \n",
       "0  # Mura and the Dragon's Legacy\\n\\nThe communit...  "
      ]
     },
     "execution_count": 10,
     "metadata": {},
     "output_type": "execute_result"
    }
   ],
   "source": [
    "result.context_data[\"reports\"]"
   ]
  },
  {
   "cell_type": "code",
   "execution_count": 11,
   "metadata": {},
   "outputs": [
    {
     "name": "stdout",
     "output_type": "stream",
     "text": [
      "LLM calls: 1. LLM tokens: 5982\n"
     ]
    }
   ],
   "source": [
    "print(f\"LLM calls: {result.llm_calls}. LLM tokens: {result.prompt_tokens}\")"
   ]
  }
 ],
 "metadata": {
  "kernelspec": {
   "display_name": ".venv",
   "language": "python",
   "name": "python3"
  },
  "language_info": {
   "codemirror_mode": {
    "name": "ipython",
    "version": 3
   },
   "file_extension": ".py",
   "mimetype": "text/x-python",
   "name": "python",
   "nbconvert_exporter": "python",
   "pygments_lexer": "ipython3",
   "version": "3.10.14"
  }
 },
 "nbformat": 4,
 "nbformat_minor": 2
}
